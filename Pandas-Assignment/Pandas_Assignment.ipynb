{
 "cells": [
  {
   "cell_type": "markdown",
   "metadata": {
    "id": "m0tgCkvzPLEa"
   },
   "source": [
    "# Data Investigation with Pandas Assignment"
   ]
  },
  {
   "cell_type": "markdown",
   "metadata": {
    "id": "VSnOCZ5-IPCi"
   },
   "source": [
    "## 1.0 Importing our Libraries"
   ]
  },
  {
   "cell_type": "code",
   "execution_count": 2,
   "metadata": {
    "id": "3r-KDLvrO44a"
   },
   "outputs": [],
   "source": [
    "# Importing the libraries we will need\n",
    "\n",
    "# Importing the pandas library\n",
    "import pandas as pd\n",
    "# Importing the numpy library\n",
    "#\n",
    "import numpy as np"
   ]
  },
  {
   "cell_type": "markdown",
   "metadata": {
    "id": "HToJZ2gBPawZ"
   },
   "source": [
    "## 1.1 Reading the Dataset from our CSV file\n",
    "\n"
   ]
  },
  {
   "cell_type": "markdown",
   "metadata": {
    "id": "LBUr8VUXQX-K"
   },
   "source": [
    "\n",
    "\n",
    "The dataset we will use contains information about the 2009 Census - The Rural Urban Population by Age, Sex and District.\n",
    "\n",
    "\n",
    "\n",
    "\n"
   ]
  },
  {
   "cell_type": "code",
   "execution_count": 3,
   "metadata": {
    "id": "1acwmZanRNHs"
   },
   "outputs": [],
   "source": [
    "# Let's read the data from the CSV file and create the dataframe to be used\n",
    "#\n",
    "df = pd.read_csv(\"Rural_Urban_Population_By_Age_Sex_and_by_District__2009.csv\")"
   ]
  },
  {
   "cell_type": "markdown",
   "metadata": {
    "id": "IICLGbvBRYHq"
   },
   "source": [
    "## 1.2 Previewing our Dataset\n"
   ]
  },
  {
   "cell_type": "code",
   "execution_count": 4,
   "metadata": {
    "id": "WrwHg-hzR5BY"
   },
   "outputs": [
    {
     "data": {
      "text/html": [
       "<div>\n",
       "<style scoped>\n",
       "    .dataframe tbody tr th:only-of-type {\n",
       "        vertical-align: middle;\n",
       "    }\n",
       "\n",
       "    .dataframe tbody tr th {\n",
       "        vertical-align: top;\n",
       "    }\n",
       "\n",
       "    .dataframe thead th {\n",
       "        text-align: right;\n",
       "    }\n",
       "</style>\n",
       "<table border=\"1\" class=\"dataframe\">\n",
       "  <thead>\n",
       "    <tr style=\"text-align: right;\">\n",
       "      <th></th>\n",
       "      <th>District</th>\n",
       "      <th>Urban/Rural</th>\n",
       "      <th>Age_years</th>\n",
       "      <th>Male</th>\n",
       "      <th>Female</th>\n",
       "      <th>Total</th>\n",
       "      <th>County</th>\n",
       "      <th>Province</th>\n",
       "      <th>OBJECTID</th>\n",
       "    </tr>\n",
       "  </thead>\n",
       "  <tbody>\n",
       "    <tr>\n",
       "      <th>0</th>\n",
       "      <td>NAIROBI WEST</td>\n",
       "      <td>Urban</td>\n",
       "      <td>0</td>\n",
       "      <td>10126</td>\n",
       "      <td>10116</td>\n",
       "      <td>20242</td>\n",
       "      <td>Nairobi</td>\n",
       "      <td>NAIROBI</td>\n",
       "      <td>0</td>\n",
       "    </tr>\n",
       "    <tr>\n",
       "      <th>1</th>\n",
       "      <td>NAIROBI WEST</td>\n",
       "      <td>Urban</td>\n",
       "      <td>1</td>\n",
       "      <td>8124</td>\n",
       "      <td>7989</td>\n",
       "      <td>16113</td>\n",
       "      <td>Nairobi</td>\n",
       "      <td>NAIROBI</td>\n",
       "      <td>1</td>\n",
       "    </tr>\n",
       "    <tr>\n",
       "      <th>2</th>\n",
       "      <td>NAIROBI WEST</td>\n",
       "      <td>Urban</td>\n",
       "      <td>2</td>\n",
       "      <td>8462</td>\n",
       "      <td>8627</td>\n",
       "      <td>17089</td>\n",
       "      <td>Nairobi</td>\n",
       "      <td>NAIROBI</td>\n",
       "      <td>2</td>\n",
       "    </tr>\n",
       "    <tr>\n",
       "      <th>3</th>\n",
       "      <td>NAIROBI WEST</td>\n",
       "      <td>Urban</td>\n",
       "      <td>3</td>\n",
       "      <td>8334</td>\n",
       "      <td>8420</td>\n",
       "      <td>16754</td>\n",
       "      <td>Nairobi</td>\n",
       "      <td>NAIROBI</td>\n",
       "      <td>3</td>\n",
       "    </tr>\n",
       "    <tr>\n",
       "      <th>4</th>\n",
       "      <td>NAIROBI WEST</td>\n",
       "      <td>Urban</td>\n",
       "      <td>4</td>\n",
       "      <td>7948</td>\n",
       "      <td>7820</td>\n",
       "      <td>15768</td>\n",
       "      <td>Nairobi</td>\n",
       "      <td>NAIROBI</td>\n",
       "      <td>4</td>\n",
       "    </tr>\n",
       "    <tr>\n",
       "      <th>5</th>\n",
       "      <td>NAIROBI WEST</td>\n",
       "      <td>Urban</td>\n",
       "      <td>5</td>\n",
       "      <td>7547</td>\n",
       "      <td>7660</td>\n",
       "      <td>15207</td>\n",
       "      <td>Nairobi</td>\n",
       "      <td>NAIROBI</td>\n",
       "      <td>5</td>\n",
       "    </tr>\n",
       "    <tr>\n",
       "      <th>6</th>\n",
       "      <td>NAIROBI WEST</td>\n",
       "      <td>Urban</td>\n",
       "      <td>6</td>\n",
       "      <td>6966</td>\n",
       "      <td>7082</td>\n",
       "      <td>14048</td>\n",
       "      <td>Nairobi</td>\n",
       "      <td>NAIROBI</td>\n",
       "      <td>6</td>\n",
       "    </tr>\n",
       "    <tr>\n",
       "      <th>7</th>\n",
       "      <td>NAIROBI WEST</td>\n",
       "      <td>Urban</td>\n",
       "      <td>7</td>\n",
       "      <td>6511</td>\n",
       "      <td>6674</td>\n",
       "      <td>13185</td>\n",
       "      <td>Nairobi</td>\n",
       "      <td>NAIROBI</td>\n",
       "      <td>7</td>\n",
       "    </tr>\n",
       "    <tr>\n",
       "      <th>8</th>\n",
       "      <td>NAIROBI WEST</td>\n",
       "      <td>Urban</td>\n",
       "      <td>8</td>\n",
       "      <td>6171</td>\n",
       "      <td>6489</td>\n",
       "      <td>12660</td>\n",
       "      <td>Nairobi</td>\n",
       "      <td>NAIROBI</td>\n",
       "      <td>8</td>\n",
       "    </tr>\n",
       "    <tr>\n",
       "      <th>9</th>\n",
       "      <td>NAIROBI WEST</td>\n",
       "      <td>Urban</td>\n",
       "      <td>9</td>\n",
       "      <td>6361</td>\n",
       "      <td>6662</td>\n",
       "      <td>13023</td>\n",
       "      <td>Nairobi</td>\n",
       "      <td>NAIROBI</td>\n",
       "      <td>9</td>\n",
       "    </tr>\n",
       "  </tbody>\n",
       "</table>\n",
       "</div>"
      ],
      "text/plain": [
       "       District Urban/Rural Age_years   Male  Female  Total   County Province  \\\n",
       "0  NAIROBI WEST       Urban         0  10126   10116  20242  Nairobi  NAIROBI   \n",
       "1  NAIROBI WEST       Urban         1   8124    7989  16113  Nairobi  NAIROBI   \n",
       "2  NAIROBI WEST       Urban         2   8462    8627  17089  Nairobi  NAIROBI   \n",
       "3  NAIROBI WEST       Urban         3   8334    8420  16754  Nairobi  NAIROBI   \n",
       "4  NAIROBI WEST       Urban         4   7948    7820  15768  Nairobi  NAIROBI   \n",
       "5  NAIROBI WEST       Urban         5   7547    7660  15207  Nairobi  NAIROBI   \n",
       "6  NAIROBI WEST       Urban         6   6966    7082  14048  Nairobi  NAIROBI   \n",
       "7  NAIROBI WEST       Urban         7   6511    6674  13185  Nairobi  NAIROBI   \n",
       "8  NAIROBI WEST       Urban         8   6171    6489  12660  Nairobi  NAIROBI   \n",
       "9  NAIROBI WEST       Urban         9   6361    6662  13023  Nairobi  NAIROBI   \n",
       "\n",
       "   OBJECTID  \n",
       "0         0  \n",
       "1         1  \n",
       "2         2  \n",
       "3         3  \n",
       "4         4  \n",
       "5         5  \n",
       "6         6  \n",
       "7         7  \n",
       "8         8  \n",
       "9         9  "
      ]
     },
     "execution_count": 4,
     "metadata": {},
     "output_type": "execute_result"
    }
   ],
   "source": [
    "# Let's preview the first 10 rows of our data\n",
    "#\n",
    "df.head(10)"
   ]
  },
  {
   "cell_type": "markdown",
   "metadata": {
    "id": "RAVzK5O6IR8v"
   },
   "source": [
    "## 1.3 Accessing Information about our Dataset"
   ]
  },
  {
   "cell_type": "code",
   "execution_count": 5,
   "metadata": {
    "id": "0d2kfemDIYWI"
   },
   "outputs": [
    {
     "name": "stdout",
     "output_type": "stream",
     "text": [
      "<class 'pandas.core.frame.DataFrame'>\n",
      "RangeIndex: 25420 entries, 0 to 25419\n",
      "Data columns (total 9 columns):\n",
      " #   Column       Non-Null Count  Dtype \n",
      "---  ------       --------------  ----- \n",
      " 0   District     25420 non-null  object\n",
      " 1   Urban/Rural  25420 non-null  object\n",
      " 2   Age_years    25420 non-null  object\n",
      " 3   Male         25420 non-null  int64 \n",
      " 4   Female       25420 non-null  int64 \n",
      " 5   Total        25420 non-null  int64 \n",
      " 6   County       25420 non-null  object\n",
      " 7   Province     25420 non-null  object\n",
      " 8   OBJECTID     25420 non-null  int64 \n",
      "dtypes: int64(4), object(5)\n",
      "memory usage: 1.7+ MB\n"
     ]
    }
   ],
   "source": [
    "# We can getting to know more about the dataset by accessing its information\n",
    "#\n",
    "df.info()\n"
   ]
  },
  {
   "cell_type": "markdown",
   "metadata": {
    "id": "NicC8P9LMjvO"
   },
   "source": [
    "## 1.4 Answering Questions"
   ]
  },
  {
   "cell_type": "markdown",
   "metadata": {
    "id": "8izhaW7UNYGJ"
   },
   "source": [
    "Let's answer the following questions with our dataset"
   ]
  },
  {
   "cell_type": "code",
   "execution_count": 7,
   "metadata": {
    "id": "tTOgnXvuMxcn"
   },
   "outputs": [
    {
     "data": {
      "text/plain": [
       "array(['0', '1', '2', '3', '4', '5', '6', '7', '8', '9', '10', '11', '12',\n",
       "       '13', '14', '15', '16', '17', '18', '19', '20', '21', '22', '23',\n",
       "       '24', '25', '26', '27', '28', '29', '30', '31', '32', '33', '34',\n",
       "       '35', '36', '37', '38', '39', '40', '41', '42', '43', '44', '45',\n",
       "       '46', '47', '48', '49', '50', '51', '52', '53', '54', '55', '56',\n",
       "       '57', '58', '59', '60', '61', '62', '63', '64', '65', '66', '67',\n",
       "       '68', '69', '70', '71', '72', '73', '74', '75', '76', '77', '78',\n",
       "       '79', '80+', 'Age NS'], dtype=object)"
      ]
     },
     "execution_count": 7,
     "metadata": {},
     "output_type": "execute_result"
    }
   ],
   "source": [
    "# Challenge 1\n",
    "# What wadf['Age_years'].unique()s the average age of a person of Kenya?\n",
    "#\n",
    "df['Age_years'].unique()"
   ]
  },
  {
   "cell_type": "code",
   "execution_count": 8,
   "metadata": {},
   "outputs": [
    {
     "data": {
      "text/plain": [
       "(310, 9)"
      ]
     },
     "execution_count": 8,
     "metadata": {},
     "output_type": "execute_result"
    }
   ],
   "source": [
    "#number of rows that have Age NS\n",
    "df1=df[df['Age_years']=='Age NS']\n",
    "df1.shape"
   ]
  },
  {
   "cell_type": "code",
   "execution_count": 9,
   "metadata": {},
   "outputs": [
    {
     "data": {
      "text/plain": [
       "(310, 9)"
      ]
     },
     "execution_count": 9,
     "metadata": {},
     "output_type": "execute_result"
    }
   ],
   "source": [
    "#number of rows with 80+\n",
    "df2 = df[df['Age_years']=='80+']\n",
    "df2.shape"
   ]
  },
  {
   "cell_type": "code",
   "execution_count": 10,
   "metadata": {},
   "outputs": [
    {
     "name": "stdout",
     "output_type": "stream",
     "text": [
      "<class 'pandas.core.frame.DataFrame'>\n",
      "Int64Index: 24800 entries, 0 to 25417\n",
      "Data columns (total 9 columns):\n",
      " #   Column       Non-Null Count  Dtype \n",
      "---  ------       --------------  ----- \n",
      " 0   District     24800 non-null  object\n",
      " 1   Urban/Rural  24800 non-null  object\n",
      " 2   Age_years    24800 non-null  object\n",
      " 3   Male         24800 non-null  int64 \n",
      " 4   Female       24800 non-null  int64 \n",
      " 5   Total        24800 non-null  int64 \n",
      " 6   County       24800 non-null  object\n",
      " 7   Province     24800 non-null  object\n",
      " 8   OBJECTID     24800 non-null  int64 \n",
      "dtypes: int64(4), object(5)\n",
      "memory usage: 1.9+ MB\n"
     ]
    }
   ],
   "source": [
    "#values convertible to integers\n",
    "values = df.loc[(df['Age_years']!='Age NS') & (df['Age_years']!='80+')]\n",
    "values.info()"
   ]
  },
  {
   "cell_type": "code",
   "execution_count": 12,
   "metadata": {},
   "outputs": [
    {
     "name": "stdout",
     "output_type": "stream",
     "text": [
      "<class 'pandas.core.frame.DataFrame'>\n",
      "Int64Index: 24800 entries, 0 to 25417\n",
      "Data columns (total 9 columns):\n",
      " #   Column       Non-Null Count  Dtype \n",
      "---  ------       --------------  ----- \n",
      " 0   District     24800 non-null  object\n",
      " 1   Urban/Rural  24800 non-null  object\n",
      " 2   Age_years    24800 non-null  int64 \n",
      " 3   Male         24800 non-null  int64 \n",
      " 4   Female       24800 non-null  int64 \n",
      " 5   Total        24800 non-null  int64 \n",
      " 6   County       24800 non-null  object\n",
      " 7   Province     24800 non-null  object\n",
      " 8   OBJECTID     24800 non-null  int64 \n",
      "dtypes: int64(5), object(4)\n",
      "memory usage: 1.9+ MB\n"
     ]
    },
    {
     "name": "stderr",
     "output_type": "stream",
     "text": [
      "C:\\Users\\pc\\AppData\\Local\\Temp\\ipykernel_12428\\3092843064.py:2: SettingWithCopyWarning: \n",
      "A value is trying to be set on a copy of a slice from a DataFrame.\n",
      "Try using .loc[row_indexer,col_indexer] = value instead\n",
      "\n",
      "See the caveats in the documentation: https://pandas.pydata.org/pandas-docs/stable/user_guide/indexing.html#returning-a-view-versus-a-copy\n",
      "  values['Age_years'] = pd.to_numeric(values['Age_years'])\n"
     ]
    }
   ],
   "source": [
    "#changing the values to integer\n",
    "values['Age_years'] = pd.to_numeric(values['Age_years'])\n",
    "values.info()"
   ]
  },
  {
   "cell_type": "code",
   "execution_count": 13,
   "metadata": {},
   "outputs": [
    {
     "data": {
      "text/plain": [
       "39.5"
      ]
     },
     "execution_count": 13,
     "metadata": {},
     "output_type": "execute_result"
    }
   ],
   "source": [
    "#average mean of a person in kenya\n",
    "values['Age_years'].mean()"
   ]
  },
  {
   "cell_type": "code",
   "execution_count": null,
   "metadata": {},
   "outputs": [],
   "source": []
  },
  {
   "cell_type": "code",
   "execution_count": 14,
   "metadata": {
    "id": "BNegesaWNvQs"
   },
   "outputs": [
    {
     "data": {
      "text/plain": [
       "763.8725019669552"
      ]
     },
     "execution_count": 14,
     "metadata": {},
     "output_type": "execute_result"
    }
   ],
   "source": [
    "# Challenge 2\n",
    "# What was the average female population in Kenya?\n",
    "#\n",
    "df['Female'].mean()"
   ]
  },
  {
   "cell_type": "code",
   "execution_count": 16,
   "metadata": {
    "id": "7tilTerhNyiP"
   },
   "outputs": [
    {
     "data": {
      "text/plain": [
       "755.0140833988985"
      ]
     },
     "execution_count": 16,
     "metadata": {},
     "output_type": "execute_result"
    }
   ],
   "source": [
    "# Challenge 3\n",
    "# What was the average male population in Kenya?\n",
    "#\n",
    "df['Male'].mean()"
   ]
  },
  {
   "cell_type": "code",
   "execution_count": null,
   "metadata": {
    "id": "OemJ0HDYOHCq"
   },
   "outputs": [],
   "source": [
    "# Challenge 4\n",
    "# Which 5 districts were the most densely populated Kenya in descending order?\n",
    "#\n"
   ]
  },
  {
   "cell_type": "code",
   "execution_count": null,
   "metadata": {
    "id": "CIxC5arSOLak"
   },
   "outputs": [],
   "source": [
    "# Challenge 5\n",
    "# Which 5 counties were the most densely populated Counties in descending order?\n",
    "#\n"
   ]
  },
  {
   "cell_type": "code",
   "execution_count": null,
   "metadata": {
    "id": "gSjjnw56OP8O"
   },
   "outputs": [],
   "source": [
    "# Challenge 6\n",
    "# Which 5 districts were the most sparsely populated in descending order?\n",
    "#\n"
   ]
  },
  {
   "cell_type": "code",
   "execution_count": null,
   "metadata": {
    "id": "UZLYqF7UOTtu"
   },
   "outputs": [],
   "source": [
    "# Challenge 7\n",
    "# What was the average population of the the most densely populated county in Kenya?\n",
    "#\n"
   ]
  },
  {
   "cell_type": "code",
   "execution_count": null,
   "metadata": {
    "id": "1qk8wF3MOXDu"
   },
   "outputs": [],
   "source": [
    "# Challenge 8\n",
    "# What was the average population of the the most sparsely populated county in Kenya?\n",
    "#\n"
   ]
  },
  {
   "cell_type": "code",
   "execution_count": null,
   "metadata": {
    "id": "1V21Beok3Rdc"
   },
   "outputs": [],
   "source": [
    "# Challenge 9\n",
    "# What was the total population of Busia County?\n",
    "#\n"
   ]
  },
  {
   "cell_type": "code",
   "execution_count": null,
   "metadata": {
    "id": "Vtq7pAI73RTZ"
   },
   "outputs": [],
   "source": [
    "# Challenge 10\n",
    "# What was the average age of person in Busia County? How many people of this age were in Busia County?\n",
    "#\n"
   ]
  },
  {
   "cell_type": "code",
   "execution_count": null,
   "metadata": {
    "id": "8xkStdjdXS3w"
   },
   "outputs": [],
   "source": [
    "# Challenge 11\n",
    "# What was the Total population of Teso South District?\n",
    "#\n"
   ]
  },
  {
   "cell_type": "code",
   "execution_count": null,
   "metadata": {
    "id": "rgVsXH_5XVCh"
   },
   "outputs": [],
   "source": [
    "# Challenge 12\n",
    "# What was the urban population of Teso South District?\n",
    "#\n"
   ]
  },
  {
   "cell_type": "code",
   "execution_count": null,
   "metadata": {
    "id": "XvvFWhuDXXeP"
   },
   "outputs": [],
   "source": [
    "# Challenge 13\n",
    "# What was the rural population of Teso South District?\n",
    "#\n"
   ]
  },
  {
   "cell_type": "code",
   "execution_count": null,
   "metadata": {
    "id": "q1iq02FuXc2R"
   },
   "outputs": [],
   "source": [
    "# Challenge 14\n",
    "# What was the population of people aged 60 and above in Kenya?\n",
    "#\n"
   ]
  },
  {
   "cell_type": "code",
   "execution_count": null,
   "metadata": {
    "id": "drAWpxBZXhcF"
   },
   "outputs": [],
   "source": [
    "# Challenge 15\n",
    "# What was the urban population in Kenya?\n",
    "#\n"
   ]
  }
 ],
 "metadata": {
  "colab": {
   "collapsed_sections": [
    "VSnOCZ5-IPCi",
    "HToJZ2gBPawZ",
    "IICLGbvBRYHq",
    "RAVzK5O6IR8v",
    "NicC8P9LMjvO"
   ],
   "provenance": []
  },
  "kernelspec": {
   "display_name": "Python 3 (ipykernel)",
   "language": "python",
   "name": "python3"
  },
  "language_info": {
   "codemirror_mode": {
    "name": "ipython",
    "version": 3
   },
   "file_extension": ".py",
   "mimetype": "text/x-python",
   "name": "python",
   "nbconvert_exporter": "python",
   "pygments_lexer": "ipython3",
   "version": "3.11.4"
  }
 },
 "nbformat": 4,
 "nbformat_minor": 1
}
